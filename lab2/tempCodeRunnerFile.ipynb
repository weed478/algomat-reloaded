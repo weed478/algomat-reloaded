for i in  range(0, 15):
#     random_matrix[i][i] = 0